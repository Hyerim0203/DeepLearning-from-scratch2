{
 "cells": [
  {
   "cell_type": "markdown",
   "metadata": {},
   "source": [
    "# 1.3 신경망의 학습"
   ]
  },
  {
   "cell_type": "markdown",
   "metadata": {},
   "source": [
    "## 1.3.1 Classification 의 Softmax and Cross-Entropy Error"
   ]
  },
  {
   "cell_type": "markdown",
   "metadata": {},
   "source": [
    "#### Softmax\n",
    "- score값을 확률값으로 나타냄.\n",
    "$$y_{k} = exp(S_{k})/\\sum_{i=1}^{n}(s_{i})$$\n",
    "- 발산의 위험이 있기 때문에 Max 값을 뺀 수식을 사용하기도 함\n",
    "$$y_{k} = exp(S_{k}-S_{max})/\\sum_{i=1}^{n}(S_{i}-S_{max})$$\n",
    "\n",
    "#### Entropy\n",
    "- entropy : 데이터 안에서의 불균형성을 나타내는 지표\n",
    "$$L = -\\sum_{k}t_{k}logt_{k}$$\n",
    "\n",
    "#### Cross-Entropy Error\n",
    "- Cross-Entropy Error\n",
    "    - entropy에서 비롯되어 두 데이터의 불균형, 두 데이터 간의 차이를 나타냄.\n",
    "    - 해당 확률분포를 통한 전략을 취했을 때, 더 작은 값. 따라서\n",
    "    - 원래의 확률분포와 비슷해질 수록 그 값이 감소 -> 비용함수로 자주 사용\n",
    "        - 하나의 데이터\n",
    "$$L = -\\sum_{k}t_{k}logy_{k}$$\n",
    "        - 여러개의 데이터\n",
    "$$L = -\\frac{1}{n}\\sum_{n}\\sum_{k}t_{nk}logy_{nk}$$"
   ]
  },
  {
   "cell_type": "markdown",
   "metadata": {},
   "source": [
    "## 1.3.2 미분과 기울기\n",
    "- L에 대한 벡터/행렬의 기울기는 그 벡터/행렬의 형상과 같음"
   ]
  },
  {
   "cell_type": "markdown",
   "metadata": {},
   "source": [
    "## 1.3.3 연쇄 법칙\n",
    "- 오차역전파법(back-propagation)\n",
    "    - chain rule을 적용한다면 국소적인 부분에만 집중함으로써 미분값을 구하기 때문에 아무리 많은 함수를 연결하더라도 미분값을 구할 수 있음"
   ]
  },
  {
   "cell_type": "markdown",
   "metadata": {},
   "source": [
    "## 1.3.4 계산 그래프\n",
    "- 덧셈\n",
    "- 곱셈\n",
    "- 분기 -> repeat"
   ]
  },
  {
   "cell_type": "code",
   "execution_count": 2,
   "metadata": {},
   "outputs": [],
   "source": [
    "# repeat 노드\n",
    "import numpy as np\n",
    "D, N = 8,7\n",
    "x = np.random.randn(1, D)\n",
    "y = np.repeat(x, N, axis=0)\n",
    "\n",
    "dy = np.random.randn(N, D) # 무작위 기울기\n",
    "dx = np.sum(dy, axis=0, keepdims=True) # 역전파"
   ]
  },
  {
   "cell_type": "code",
   "execution_count": 6,
   "metadata": {},
   "outputs": [
    {
     "data": {
      "text/plain": [
       "array([[-2.05181639,  0.08011393,  1.9892729 ,  3.41522124, -0.32573228,\n",
       "        -0.35432344,  2.8137993 , -2.91847634]])"
      ]
     },
     "execution_count": 6,
     "metadata": {},
     "output_type": "execute_result"
    }
   ],
   "source": [
    "# sum 노드\n",
    "import numpy as np\n",
    "D, N = 8,7\n",
    "x = np.random.randn(N,D) # 입력\n",
    "y = np.sum(x, axis=0, keepdims=True) # 순전파\n",
    "\n",
    "dy = np.random.randn(1,D) # 무작위 기울기\n",
    "dx = np.repeat(dy, N, axis=0) # 역전파"
   ]
  },
  {
   "cell_type": "code",
   "execution_count": 7,
   "metadata": {},
   "outputs": [],
   "source": [
    "class MatMul:\n",
    "    def __init__(self, W):\n",
    "        self.params = [W]\n",
    "        self.grads = [np.zeros_like(W)]\n",
    "        self.x = None\n",
    "    \n",
    "    def forward(self, x):\n",
    "        W, = self.params\n",
    "        out = np.matmul(x, W)\n",
    "        self.x = x\n",
    "        return out\n",
    "    \n",
    "    def backward(self, dout):\n",
    "        W, = self.params\n",
    "        dx = np.matmul(dout, W.T)\n",
    "        dW = np.matmul(self.x.T, dout)\n",
    "        self.grads[0][...] = dW # 깊은 복사 - 값이 바뀌는 것을 방지해주기 위해서\n",
    "        return dx"
   ]
  },
  {
   "cell_type": "markdown",
   "metadata": {},
   "source": [
    "## 1.3.5 기울기 도출과 역전파 구현"
   ]
  },
  {
   "cell_type": "code",
   "execution_count": 8,
   "metadata": {},
   "outputs": [],
   "source": [
    "class Sigmoid:\n",
    "    def __init__(self):\n",
    "        self.params, self.grads = [],[]\n",
    "        self.out = None\n",
    "        \n",
    "    def forward(self,x):\n",
    "        out = 1/(1+np.exp(-x))\n",
    "        self.out = out\n",
    "        return out\n",
    "    \n",
    "    def backward(self, dout):\n",
    "        dx = dout * (1.-self.out)*self.out\n",
    "        return dx"
   ]
  },
  {
   "cell_type": "code",
   "execution_count": 9,
   "metadata": {},
   "outputs": [],
   "source": [
    "class Affine:\n",
    "    def __init__(self, W, b):\n",
    "        self.params = [W,b]\n",
    "        self.grads = [np.zeros_like(W), np.zeros_like(b)]\n",
    "        self.x = None\n",
    "        \n",
    "    def forward(self, x):\n",
    "        W, b = self.params\n",
    "        out = np.matmul(x,W)+b\n",
    "        self.x = x\n",
    "        return out\n",
    "    \n",
    "    def backward(self,dout):\n",
    "        W, b = self.params\n",
    "        dx = np.matmul(dout, W.T)\n",
    "        dW = np.matmul(self.x.T, dout)\n",
    "        db = np.sum(dout, axis=0)\n",
    "        \n",
    "        self.grads[0][...] = dW\n",
    "        self.grads[1][...] = db\n",
    "        \n",
    "        return dx"
   ]
  },
  {
   "cell_type": "markdown",
   "metadata": {},
   "source": [
    "## 1.3.6 가중치 갱신"
   ]
  },
  {
   "cell_type": "code",
   "execution_count": 10,
   "metadata": {},
   "outputs": [],
   "source": [
    "class SGD:\n",
    "    def __init__(self, lr=0.01):\n",
    "        self.lr = lr\n",
    "        \n",
    "    def update(self, params, grads):\n",
    "        for i in range(len(params)):\n",
    "            params[i] -= self.lr * grads[i]"
   ]
  }
 ],
 "metadata": {
  "kernelspec": {
   "display_name": "Python 3",
   "language": "python",
   "name": "python3"
  },
  "language_info": {
   "codemirror_mode": {
    "name": "ipython",
    "version": 3
   },
   "file_extension": ".py",
   "mimetype": "text/x-python",
   "name": "python",
   "nbconvert_exporter": "python",
   "pygments_lexer": "ipython3",
   "version": "3.7.6"
  }
 },
 "nbformat": 4,
 "nbformat_minor": 4
}
