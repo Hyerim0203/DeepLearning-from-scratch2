{
 "cells": [
  {
   "cell_type": "markdown",
   "metadata": {},
   "source": [
    "# 1.4 신경망으로 문제를 풀다"
   ]
  },
  {
   "cell_type": "markdown",
   "metadata": {},
   "source": [
    "### 1.4.1 스파이럴 데이터셋"
   ]
  },
  {
   "cell_type": "code",
   "execution_count": 34,
   "metadata": {},
   "outputs": [
    {
     "data": {
      "text/plain": [
       "('..\\\\datasets\\\\spiral.py', <http.client.HTTPMessage at 0x262317bfbc8>)"
      ]
     },
     "execution_count": 34,
     "metadata": {},
     "output_type": "execute_result"
    }
   ],
   "source": [
    "# spiral.py 다운로드\n",
    "import urllib\n",
    "import os\n",
    "\n",
    "download_path = \"https://github.com\"\n",
    "file_name = download_path + \"/WegraLee/deep-learning-from-scratch-2/raw/master/dataset/spiral.py\"\n",
    "save_path = os.path.join(\"..\",\"datasets\",\"spiral.py\")\n",
    "\n",
    "urllib.request.urlretrieve(file_name, save_path)"
   ]
  },
  {
   "cell_type": "code",
   "execution_count": 35,
   "metadata": {},
   "outputs": [
    {
     "name": "stdout",
     "output_type": "stream",
     "text": [
      "x (300, 2)\n",
      "t (300, 3)\n"
     ]
    }
   ],
   "source": [
    "import sys\n",
    "sys.path.append(\"..\") # 부모 디렉토리 추가\n",
    "from datasets import spiral\n",
    "import matplotlib.pyplot as plt\n",
    "\n",
    "x, t = spiral.load_data()\n",
    "print(\"x\", x.shape)\n",
    "print(\"t\", t.shape) # 정답 레이블 -> 원핫 벡터"
   ]
  },
  {
   "cell_type": "code",
   "execution_count": 46,
   "metadata": {},
   "outputs": [
    {
     "data": {
      "image/png": "[encoded data removed]",
      "text/plain": [
       "<Figure size 432x288 with 1 Axes>"
      ]
     },
     "metadata": {
      "needs_background": "light"
     },
     "output_type": "display_data"
    }
   ],
   "source": [
    "colors = [\"r\",\"g\",\"b\"]\n",
    "for i in range(len(x)):\n",
    "    plt.scatter(x=x[i,0],y=x[i,1], color=colors[t[i].argmax()])"
   ]
  },
  {
   "cell_type": "markdown",
   "metadata": {},
   "source": [
    "비선형 데이터셋이기 때문에 선형 분류기로는 분류 불가능"
   ]
  },
  {
   "cell_type": "markdown",
   "metadata": {},
   "source": [
    "## 1.4.2 신경망 구현\n",
    "- hidden layer : 1"
   ]
  },
  {
   "cell_type": "code",
   "execution_count": 9,
   "metadata": {},
   "outputs": [],
   "source": [
    "import sys\n",
    "sys.path.append(\"..\")\n",
    "import numpy as np\n",
    "from function.base_layer import Affine, Sigmoid, SoftmaxWithLoss"
   ]
  },
  {
   "cell_type": "code",
   "execution_count": 16,
   "metadata": {},
   "outputs": [],
   "source": [
    "class TwoLayerNet:\n",
    "    def __init__(self, input_size, hidden_size, output_size):\n",
    "        I,H,O = input_size, hidden_size, output_size\n",
    "        \n",
    "        # 가중치와 편향 초기화\n",
    "        W1 = 0.01 * np.random.randn(I,H) # 표준편차 0.01로 맞춤\n",
    "        b1 = np.zeros(H)\n",
    "        W2 = 0.01 * np.random.randn(H,O)\n",
    "        b2 = np.zeros(O)\n",
    "        \n",
    "        # 계층생성\n",
    "        self.layers = [\n",
    "            Affine(W1, b1),\n",
    "            Sigmoid(),\n",
    "            Affine(W2, b2)]\n",
    "        self.loss_layer = SoftmaxWithLoss()\n",
    "        \n",
    "        # 모든 가중치와 기울기를 리스트에 모음\n",
    "        self.params, self.grads = [], []\n",
    "        for layer in self.layers:\n",
    "            # activation layer에서는 더해지는 param과 grads가 없음\n",
    "            self.params += layer.params\n",
    "            self.grads += layer.grads\n",
    "    \n",
    "    def predict(self, x):\n",
    "        for layer in self.layers:\n",
    "            x = layer.forward(x)\n",
    "        return x # 예측값\n",
    "    \n",
    "    def forward(self,x,t):\n",
    "        score = self.predict(x)\n",
    "        loss = self.loss_layer.forward(t, score)\n",
    "        return loss # 손실값\n",
    "    \n",
    "    def backward(self, dout=1):\n",
    "        dout = self.loss_layer.backward(dout)\n",
    "        for layer in reversed(self.layers): # 역순으로 진행\n",
    "            dout = layer.backward(dout)\n",
    "        return dout"
   ]
  },
  {
   "cell_type": "markdown",
   "metadata": {},
   "source": [
    "## 1.4.3 학습용 코드"
   ]
  },
  {
   "cell_type": "code",
   "execution_count": 22,
   "metadata": {},
   "outputs": [
    {
     "name": "stdout",
     "output_type": "stream",
     "text": [
      ":에폭1: 반복10 / 10 : 손실 1.44\n",
      ":에폭2: 반복10 / 10 : 손실 1.19\n",
      ":에폭3: 반복10 / 10 : 손실 1.22\n",
      ":에폭4: 반복10 / 10 : 손실 1.13\n",
      ":에폭5: 반복10 / 10 : 손실 1.09\n",
      ":에폭6: 반복10 / 10 : 손실 1.10\n",
      ":에폭7: 반복10 / 10 : 손실 1.11\n",
      ":에폭8: 반복10 / 10 : 손실 0.94\n",
      ":에폭9: 반복10 / 10 : 손실 0.91\n",
      ":에폭10: 반복10 / 10 : 손실 0.92\n",
      ":에폭11: 반복10 / 10 : 손실 0.88\n",
      ":에폭12: 반복10 / 10 : 손실 0.89\n",
      ":에폭13: 반복10 / 10 : 손실 0.89\n",
      ":에폭14: 반복10 / 10 : 손실 0.90\n",
      ":에폭15: 반복10 / 10 : 손실 0.78\n",
      ":에폭16: 반복10 / 10 : 손실 0.93\n",
      ":에폭17: 반복10 / 10 : 손실 0.73\n",
      ":에폭18: 반복10 / 10 : 손실 0.72\n",
      ":에폭19: 반복10 / 10 : 손실 0.79\n",
      ":에폭20: 반복10 / 10 : 손실 0.78\n",
      ":에폭21: 반복10 / 10 : 손실 0.69\n",
      ":에폭22: 반복10 / 10 : 손실 0.70\n",
      ":에폭23: 반복10 / 10 : 손실 0.65\n",
      ":에폭24: 반복10 / 10 : 손실 0.62\n",
      ":에폭25: 반복10 / 10 : 손실 0.72\n",
      ":에폭26: 반복10 / 10 : 손실 0.66\n",
      ":에폭27: 반복10 / 10 : 손실 0.61\n",
      ":에폭28: 반복10 / 10 : 손실 0.65\n",
      ":에폭29: 반복10 / 10 : 손실 0.69\n",
      ":에폭30: 반복10 / 10 : 손실 0.58\n",
      ":에폭31: 반복10 / 10 : 손실 0.60\n",
      ":에폭32: 반복10 / 10 : 손실 0.61\n",
      ":에폭33: 반복10 / 10 : 손실 0.67\n",
      ":에폭34: 반복10 / 10 : 손실 0.74\n",
      ":에폭35: 반복10 / 10 : 손실 0.53\n",
      ":에폭36: 반복10 / 10 : 손실 0.54\n",
      ":에폭37: 반복10 / 10 : 손실 0.52\n",
      ":에폭38: 반복10 / 10 : 손실 0.55\n",
      ":에폭39: 반복10 / 10 : 손실 0.49\n",
      ":에폭40: 반복10 / 10 : 손실 0.49\n",
      ":에폭41: 반복10 / 10 : 손실 0.51\n",
      ":에폭42: 반복10 / 10 : 손실 0.52\n",
      ":에폭43: 반복10 / 10 : 손실 0.54\n",
      ":에폭44: 반복10 / 10 : 손실 0.45\n",
      ":에폭45: 반복10 / 10 : 손실 0.48\n",
      ":에폭46: 반복10 / 10 : 손실 0.44\n",
      ":에폭47: 반복10 / 10 : 손실 0.42\n",
      ":에폭48: 반복10 / 10 : 손실 0.40\n",
      ":에폭49: 반복10 / 10 : 손실 0.39\n",
      ":에폭50: 반복10 / 10 : 손실 0.44\n",
      ":에폭51: 반복10 / 10 : 손실 0.47\n",
      ":에폭52: 반복10 / 10 : 손실 0.39\n",
      ":에폭53: 반복10 / 10 : 손실 0.64\n",
      ":에폭54: 반복10 / 10 : 손실 0.39\n",
      ":에폭55: 반복10 / 10 : 손실 0.42\n",
      ":에폭56: 반복10 / 10 : 손실 0.34\n",
      ":에폭57: 반복10 / 10 : 손실 0.33\n",
      ":에폭58: 반복10 / 10 : 손실 0.33\n",
      ":에폭59: 반복10 / 10 : 손실 0.39\n",
      ":에폭60: 반복10 / 10 : 손실 0.35\n",
      ":에폭61: 반복10 / 10 : 손실 0.30\n",
      ":에폭62: 반복10 / 10 : 손실 0.32\n",
      ":에폭63: 반복10 / 10 : 손실 0.35\n",
      ":에폭64: 반복10 / 10 : 손실 0.31\n",
      ":에폭65: 반복10 / 10 : 손실 0.34\n",
      ":에폭66: 반복10 / 10 : 손실 0.27\n",
      ":에폭67: 반복10 / 10 : 손실 0.32\n",
      ":에폭68: 반복10 / 10 : 손실 0.30\n",
      ":에폭69: 반복10 / 10 : 손실 0.32\n",
      ":에폭70: 반복10 / 10 : 손실 0.35\n",
      ":에폭71: 반복10 / 10 : 손실 0.35\n",
      ":에폭72: 반복10 / 10 : 손실 0.26\n",
      ":에폭73: 반복10 / 10 : 손실 0.25\n",
      ":에폭74: 반복10 / 10 : 손실 0.26\n",
      ":에폭75: 반복10 / 10 : 손실 0.27\n",
      ":에폭76: 반복10 / 10 : 손실 0.25\n",
      ":에폭77: 반복10 / 10 : 손실 0.28\n",
      ":에폭78: 반복10 / 10 : 손실 0.32\n",
      ":에폭79: 반복10 / 10 : 손실 0.23\n",
      ":에폭80: 반복10 / 10 : 손실 0.21\n",
      ":에폭81: 반복10 / 10 : 손실 0.22\n",
      ":에폭82: 반복10 / 10 : 손실 0.27\n",
      ":에폭83: 반복10 / 10 : 손실 0.24\n",
      ":에폭84: 반복10 / 10 : 손실 0.21\n",
      ":에폭85: 반복10 / 10 : 손실 0.27\n",
      ":에폭86: 반복10 / 10 : 손실 0.21\n",
      ":에폭87: 반복10 / 10 : 손실 0.20\n",
      ":에폭88: 반복10 / 10 : 손실 0.25\n",
      ":에폭89: 반복10 / 10 : 손실 0.21\n",
      ":에폭90: 반복10 / 10 : 손실 0.21\n",
      ":에폭91: 반복10 / 10 : 손실 0.21\n",
      ":에폭92: 반복10 / 10 : 손실 0.19\n",
      ":에폭93: 반복10 / 10 : 손실 0.23\n",
      ":에폭94: 반복10 / 10 : 손실 0.20\n",
      ":에폭95: 반복10 / 10 : 손실 0.21\n",
      ":에폭96: 반복10 / 10 : 손실 0.20\n",
      ":에폭97: 반복10 / 10 : 손실 0.24\n",
      ":에폭98: 반복10 / 10 : 손실 0.19\n",
      ":에폭99: 반복10 / 10 : 손실 0.19\n",
      ":에폭100: 반복10 / 10 : 손실 0.20\n",
      ":에폭101: 반복10 / 10 : 손실 0.22\n",
      ":에폭102: 반복10 / 10 : 손실 0.19\n",
      ":에폭103: 반복10 / 10 : 손실 0.23\n",
      ":에폭104: 반복10 / 10 : 손실 0.20\n",
      ":에폭105: 반복10 / 10 : 손실 0.21\n",
      ":에폭106: 반복10 / 10 : 손실 0.17\n",
      ":에폭107: 반복10 / 10 : 손실 0.16\n",
      ":에폭108: 반복10 / 10 : 손실 0.17\n",
      ":에폭109: 반복10 / 10 : 손실 0.20\n",
      ":에폭110: 반복10 / 10 : 손실 0.19\n",
      ":에폭111: 반복10 / 10 : 손실 0.23\n",
      ":에폭112: 반복10 / 10 : 손실 0.17\n",
      ":에폭113: 반복10 / 10 : 손실 0.19\n",
      ":에폭114: 반복10 / 10 : 손실 0.20\n",
      ":에폭115: 반복10 / 10 : 손실 0.17\n",
      ":에폭116: 반복10 / 10 : 손실 0.16\n",
      ":에폭117: 반복10 / 10 : 손실 0.16\n",
      ":에폭118: 반복10 / 10 : 손실 0.17\n",
      ":에폭119: 반복10 / 10 : 손실 0.17\n",
      ":에폭120: 반복10 / 10 : 손실 0.22\n",
      ":에폭121: 반복10 / 10 : 손실 0.15\n",
      ":에폭122: 반복10 / 10 : 손실 0.18\n",
      ":에폭123: 반복10 / 10 : 손실 0.17\n",
      ":에폭124: 반복10 / 10 : 손실 0.17\n",
      ":에폭125: 반복10 / 10 : 손실 0.21\n",
      ":에폭126: 반복10 / 10 : 손실 0.15\n",
      ":에폭127: 반복10 / 10 : 손실 0.14\n",
      ":에폭128: 반복10 / 10 : 손실 0.15\n",
      ":에폭129: 반복10 / 10 : 손실 0.16\n",
      ":에폭130: 반복10 / 10 : 손실 0.16\n",
      ":에폭131: 반복10 / 10 : 손실 0.14\n",
      ":에폭132: 반복10 / 10 : 손실 0.15\n",
      ":에폭133: 반복10 / 10 : 손실 0.17\n",
      ":에폭134: 반복10 / 10 : 손실 0.19\n",
      ":에폭135: 반복10 / 10 : 손실 0.17\n",
      ":에폭136: 반복10 / 10 : 손실 0.19\n",
      ":에폭137: 반복10 / 10 : 손실 0.21\n",
      ":에폭138: 반복10 / 10 : 손실 0.16\n",
      ":에폭139: 반복10 / 10 : 손실 0.15\n",
      ":에폭140: 반복10 / 10 : 손실 0.18\n",
      ":에폭141: 반복10 / 10 : 손실 0.14\n",
      ":에폭142: 반복10 / 10 : 손실 0.17\n",
      ":에폭143: 반복10 / 10 : 손실 0.14\n",
      ":에폭144: 반복10 / 10 : 손실 0.16\n",
      ":에폭145: 반복10 / 10 : 손실 0.21\n",
      ":에폭146: 반복10 / 10 : 손실 0.15\n",
      ":에폭147: 반복10 / 10 : 손실 0.15\n",
      ":에폭148: 반복10 / 10 : 손실 0.19\n",
      ":에폭149: 반복10 / 10 : 손실 0.13\n",
      ":에폭150: 반복10 / 10 : 손실 0.15\n",
      ":에폭151: 반복10 / 10 : 손실 0.14\n",
      ":에폭152: 반복10 / 10 : 손실 0.17\n",
      ":에폭153: 반복10 / 10 : 손실 0.14\n",
      ":에폭154: 반복10 / 10 : 손실 0.15\n",
      ":에폭155: 반복10 / 10 : 손실 0.15\n",
      ":에폭156: 반복10 / 10 : 손실 0.14\n",
      ":에폭157: 반복10 / 10 : 손실 0.14\n",
      ":에폭158: 반복10 / 10 : 손실 0.17\n",
      ":에폭159: 반복10 / 10 : 손실 0.13\n",
      ":에폭160: 반복10 / 10 : 손실 0.15\n",
      ":에폭161: 반복10 / 10 : 손실 0.15\n",
      ":에폭162: 반복10 / 10 : 손실 0.13\n",
      ":에폭163: 반복10 / 10 : 손실 0.19\n",
      ":에폭164: 반복10 / 10 : 손실 0.12\n",
      ":에폭165: 반복10 / 10 : 손실 0.13\n",
      ":에폭166: 반복10 / 10 : 손실 0.13\n",
      ":에폭167: 반복10 / 10 : 손실 0.13\n",
      ":에폭168: 반복10 / 10 : 손실 0.14\n",
      ":에폭169: 반복10 / 10 : 손실 0.14\n",
      ":에폭170: 반복10 / 10 : 손실 0.14\n",
      ":에폭171: 반복10 / 10 : 손실 0.14\n",
      ":에폭172: 반복10 / 10 : 손실 0.12\n",
      ":에폭173: 반복10 / 10 : 손실 0.12\n",
      ":에폭174: 반복10 / 10 : 손실 0.12\n",
      ":에폭175: 반복10 / 10 : 손실 0.16\n",
      ":에폭176: 반복10 / 10 : 손실 0.11\n",
      ":에폭177: 반복10 / 10 : 손실 0.17\n",
      ":에폭178: 반복10 / 10 : 손실 0.12\n",
      ":에폭179: 반복10 / 10 : 손실 0.12\n",
      ":에폭180: 반복10 / 10 : 손실 0.12\n",
      ":에폭181: 반복10 / 10 : 손실 0.12\n",
      ":에폭182: 반복10 / 10 : 손실 0.13\n",
      ":에폭183: 반복10 / 10 : 손실 0.16\n",
      ":에폭184: 반복10 / 10 : 손실 0.17\n",
      ":에폭185: 반복10 / 10 : 손실 0.12\n",
      ":에폭186: 반복10 / 10 : 손실 0.17\n",
      ":에폭187: 반복10 / 10 : 손실 0.14\n",
      ":에폭188: 반복10 / 10 : 손실 0.15\n",
      ":에폭189: 반복10 / 10 : 손실 0.13\n",
      ":에폭190: 반복10 / 10 : 손실 0.14\n",
      ":에폭191: 반복10 / 10 : 손실 0.13\n",
      ":에폭192: 반복10 / 10 : 손실 0.12\n",
      ":에폭193: 반복10 / 10 : 손실 0.13\n",
      ":에폭194: 반복10 / 10 : 손실 0.11\n",
      ":에폭195: 반복10 / 10 : 손실 0.15\n",
      ":에폭196: 반복10 / 10 : 손실 0.13\n",
      ":에폭197: 반복10 / 10 : 손실 0.13\n",
      ":에폭198: 반복10 / 10 : 손실 0.11\n",
      ":에폭199: 반복10 / 10 : 손실 0.10\n",
      ":에폭200: 반복10 / 10 : 손실 0.14\n",
      ":에폭201: 반복10 / 10 : 손실 0.11\n",
      ":에폭202: 반복10 / 10 : 손실 0.17\n",
      ":에폭203: 반복10 / 10 : 손실 0.14\n",
      ":에폭204: 반복10 / 10 : 손실 0.14\n",
      ":에폭205: 반복10 / 10 : 손실 0.13\n",
      ":에폭206: 반복10 / 10 : 손실 0.12\n",
      ":에폭207: 반복10 / 10 : 손실 0.14\n",
      ":에폭208: 반복10 / 10 : 손실 0.11\n",
      ":에폭209: 반복10 / 10 : 손실 0.11\n",
      ":에폭210: 반복10 / 10 : 손실 0.10\n",
      ":에폭211: 반복10 / 10 : 손실 0.13\n",
      ":에폭212: 반복10 / 10 : 손실 0.11\n",
      ":에폭213: 반복10 / 10 : 손실 0.10\n",
      ":에폭214: 반복10 / 10 : 손실 0.11\n",
      ":에폭215: 반복10 / 10 : 손실 0.14\n",
      ":에폭216: 반복10 / 10 : 손실 0.11\n",
      ":에폭217: 반복10 / 10 : 손실 0.11\n",
      ":에폭218: 반복10 / 10 : 손실 0.12\n",
      ":에폭219: 반복10 / 10 : 손실 0.10\n",
      ":에폭220: 반복10 / 10 : 손실 0.11\n",
      ":에폭221: 반복10 / 10 : 손실 0.13\n",
      ":에폭222: 반복10 / 10 : 손실 0.11\n",
      ":에폭223: 반복10 / 10 : 손실 0.11\n",
      ":에폭224: 반복10 / 10 : 손실 0.12\n",
      ":에폭225: 반복10 / 10 : 손실 0.11\n",
      ":에폭226: 반복10 / 10 : 손실 0.12\n",
      ":에폭227: 반복10 / 10 : 손실 0.11\n",
      ":에폭228: 반복10 / 10 : 손실 0.10\n",
      ":에폭229: 반복10 / 10 : 손실 0.08\n",
      ":에폭230: 반복10 / 10 : 손실 0.12\n",
      ":에폭231: 반복10 / 10 : 손실 0.09\n",
      ":에폭232: 반복10 / 10 : 손실 0.10\n",
      ":에폭233: 반복10 / 10 : 손실 0.09\n",
      ":에폭234: 반복10 / 10 : 손실 0.09\n",
      ":에폭235: 반복10 / 10 : 손실 0.11\n",
      ":에폭236: 반복10 / 10 : 손실 0.09\n",
      ":에폭237: 반복10 / 10 : 손실 0.10\n",
      ":에폭238: 반복10 / 10 : 손실 0.11\n",
      ":에폭239: 반복10 / 10 : 손실 0.10\n",
      ":에폭240: 반복10 / 10 : 손실 0.13\n",
      ":에폭241: 반복10 / 10 : 손실 0.10\n",
      ":에폭242: 반복10 / 10 : 손실 0.10\n",
      ":에폭243: 반복10 / 10 : 손실 0.09\n",
      ":에폭244: 반복10 / 10 : 손실 0.11\n",
      ":에폭245: 반복10 / 10 : 손실 0.09\n",
      ":에폭246: 반복10 / 10 : 손실 0.09\n",
      ":에폭247: 반복10 / 10 : 손실 0.09\n",
      ":에폭248: 반복10 / 10 : 손실 0.16\n",
      ":에폭249: 반복10 / 10 : 손실 0.08\n",
      ":에폭250: 반복10 / 10 : 손실 0.11\n",
      ":에폭251: 반복10 / 10 : 손실 0.15\n",
      ":에폭252: 반복10 / 10 : 손실 0.08\n",
      ":에폭253: 반복10 / 10 : 손실 0.08\n",
      ":에폭254: 반복10 / 10 : 손실 0.08\n",
      ":에폭255: 반복10 / 10 : 손실 0.09\n",
      ":에폭256: 반복10 / 10 : 손실 0.10\n",
      ":에폭257: 반복10 / 10 : 손실 0.08\n",
      ":에폭258: 반복10 / 10 : 손실 0.10\n",
      ":에폭259: 반복10 / 10 : 손실 0.12\n",
      ":에폭260: 반복10 / 10 : 손실 0.09\n",
      ":에폭261: 반복10 / 10 : 손실 0.09\n",
      ":에폭262: 반복10 / 10 : 손실 0.10\n",
      ":에폭263: 반복10 / 10 : 손실 0.08\n",
      ":에폭264: 반복10 / 10 : 손실 0.13\n",
      ":에폭265: 반복10 / 10 : 손실 0.09\n",
      ":에폭266: 반복10 / 10 : 손실 0.09\n",
      ":에폭267: 반복10 / 10 : 손실 0.08\n",
      ":에폭268: 반복10 / 10 : 손실 0.09\n",
      ":에폭269: 반복10 / 10 : 손실 0.09\n",
      ":에폭270: 반복10 / 10 : 손실 0.09\n",
      ":에폭271: 반복10 / 10 : 손실 0.09\n",
      ":에폭272: 반복10 / 10 : 손실 0.08\n",
      ":에폭273: 반복10 / 10 : 손실 0.09\n",
      ":에폭274: 반복10 / 10 : 손실 0.09\n",
      ":에폭275: 반복10 / 10 : 손실 0.08\n",
      ":에폭276: 반복10 / 10 : 손실 0.10\n",
      ":에폭277: 반복10 / 10 : 손실 0.13\n",
      ":에폭278: 반복10 / 10 : 손실 0.08\n",
      ":에폭279: 반복10 / 10 : 손실 0.10\n",
      ":에폭280: 반복10 / 10 : 손실 0.08\n",
      ":에폭281: 반복10 / 10 : 손실 0.08\n",
      ":에폭282: 반복10 / 10 : 손실 0.10\n",
      ":에폭283: 반복10 / 10 : 손실 0.08\n",
      ":에폭284: 반복10 / 10 : 손실 0.09\n",
      ":에폭285: 반복10 / 10 : 손실 0.09\n",
      ":에폭286: 반복10 / 10 : 손실 0.07\n",
      ":에폭287: 반복10 / 10 : 손실 0.09\n",
      ":에폭288: 반복10 / 10 : 손실 0.10\n",
      ":에폭289: 반복10 / 10 : 손실 0.08\n",
      ":에폭290: 반복10 / 10 : 손실 0.11\n",
      ":에폭291: 반복10 / 10 : 손실 0.10\n",
      ":에폭292: 반복10 / 10 : 손실 0.10\n",
      ":에폭293: 반복10 / 10 : 손실 0.09\n",
      ":에폭294: 반복10 / 10 : 손실 0.08\n",
      ":에폭295: 반복10 / 10 : 손실 0.10\n",
      ":에폭296: 반복10 / 10 : 손실 0.08\n",
      ":에폭297: 반복10 / 10 : 손실 0.08\n"
     ]
    },
    {
     "name": "stdout",
     "output_type": "stream",
     "text": [
      ":에폭298: 반복10 / 10 : 손실 0.08\n",
      ":에폭299: 반복10 / 10 : 손실 0.08\n",
      ":에폭300: 반복10 / 10 : 손실 0.08\n"
     ]
    }
   ],
   "source": [
    "import sys\n",
    "sys.path.append(\"..\")\n",
    "import numpy as np\n",
    "from datasets import spiral\n",
    "import matplotlib.pyplot as plt\n",
    "from function.two_layer_net import TwoLayerNet\n",
    "from function.optimizer import SGD\n",
    "\n",
    "# 하이퍼 파라미터 설정\n",
    "max_epoch = 300 # 총 반복횟수\n",
    "batch_size = 30 # batch size\n",
    "hidden_size = 10\n",
    "learning_rate = 0.1\n",
    "\n",
    "# 데이터 읽기, 모델과 옵티마이저 생성\n",
    "x,t = spiral.load_data()\n",
    "model = TwoLayerNet(input_size = 2, hidden_size = hidden_size, output_size = 3)\n",
    "optimizer = SGD(lr=learning_rate)\n",
    "\n",
    "# 학습에 사용하는 변수\n",
    "data_size = len(x)\n",
    "max_iters = data_size // batch_size # 한번 epoch 마다 반복횟수\n",
    "total_loss = 0\n",
    "loss_count = 0\n",
    "loss_list = []\n",
    "\n",
    "for epoch in range(max_epoch):\n",
    "    # 데이터 뒤섞기\n",
    "    idx = np.random.permutation(data_size) # (0~(data size-1)) 까지 뒤섞은 배열\n",
    "    x = x[idx]\n",
    "    t = t[idx]\n",
    "    \n",
    "    for iters in range(max_iters):\n",
    "        batch_x = x[iters*batch_size:(iters+1)*batch_size]\n",
    "        batch_t = t[iters*batch_size:(iters+1)*batch_size]\n",
    "        \n",
    "        # 기울기를 구해 매개변수 갱신\n",
    "        loss = model.forward(batch_x, batch_t)\n",
    "        model.backward()\n",
    "        optimizer.update(model.params, model.grads)\n",
    "        \n",
    "        total_loss += loss\n",
    "        loss_count += 1\n",
    "        \n",
    "        # 정기적으로 학습 경과 출력\n",
    "        if (iters+1) %10 ==0: # 10번째 iter마다 출력\n",
    "            avg_loss = total_loss / loss_count\n",
    "            print(\":에폭%d: 반복%d / %d : 손실 %.2f\"\n",
    "                 %(epoch+1, iters+1, max_iters, avg_loss))\n",
    "            loss_list.append(avg_loss)\n",
    "            total_loss, loss_count = 0, 0 # 다시 loss, count를 0으로 초기화"
   ]
  },
  {
   "cell_type": "code",
   "execution_count": 23,
   "metadata": {},
   "outputs": [
    {
     "data": {
      "text/plain": [
       "[<matplotlib.lines.Line2D at 0x2c169ae87c8>]"
      ]
     },
     "execution_count": 23,
     "metadata": {},
     "output_type": "execute_result"
    },
    {
     "data": {
      "image/png": "[encoded data removed]",
      "text/plain": [
       "<Figure size 432x288 with 1 Axes>"
      ]
     },
     "metadata": {
      "needs_background": "light"
     },
     "output_type": "display_data"
    }
   ],
   "source": [
    "plt.plot(loss_list)"
   ]
  },
  {
   "cell_type": "code",
   "execution_count": 12,
   "metadata": {},
   "outputs": [
    {
     "data": {
      "text/plain": [
       "<bound method TwoLayerNet.predict of <__main__.TwoLayerNet object at 0x000002C167DFCDC8>>"
      ]
     },
     "execution_count": 12,
     "metadata": {},
     "output_type": "execute_result"
    }
   ],
   "source": [
    "model.predict"
   ]
  },
  {
   "cell_type": "markdown",
   "metadata": {},
   "source": [
    "## 1.5 계산 고속화"
   ]
  },
  {
   "cell_type": "markdown",
   "metadata": {},
   "source": [
    "### 1.5.1 비트 정밀도\n",
    "- 넘파이의 부동소수점 type은 기본적으로 64비트 데이터 타입을 사용,\n",
    "- 하지만 신경망의 추론과 학습에는 32비트 부동소수점으로도 문제없이 수행 가능\n",
    "    - 메모리 관점에 뚜렷하게, 속도 측면에서도 일반적으로 32비트가 더욱 좋음\n",
    "    - 넘파이에서 32비트 부동소수점을 사용하도록 바꾸어 주는 것이 좋음\n",
    "- 신경망 추론으로 한정 -> 16비트 부동소수점 수를 사용하더라도 인식률이 거의 떨어지지 않음\n",
    "    - CPU, GPU는 32비트 연산을 수행 -> 속도 측면에서는 혜택이 없을 수 있음\n",
    "    - 가중치 데이터를 저장할 때는 16비트로 저장하는 것이 메모리 측면에서 훨씬 좋음\n",
    "    - 실제 돌아갈 때는 32비트로 바뀌어서 돌아가서 속도측면에서는 상관없겠지만,\n",
    "        - 요즘 GPU에서는 8비트까지도 지원하기 시작"
   ]
  },
  {
   "cell_type": "code",
   "execution_count": 33,
   "metadata": {},
   "outputs": [
    {
     "data": {
      "text/plain": [
       "dtype('float32')"
      ]
     },
     "execution_count": 33,
     "metadata": {},
     "output_type": "execute_result"
    }
   ],
   "source": [
    "# 부동소수점 사용(32비트)\n",
    "b = np.random.randn(3).astype(np.float32)\n",
    "b.dtype"
   ]
  },
  {
   "cell_type": "code",
   "execution_count": 35,
   "metadata": {},
   "outputs": [
    {
     "data": {
      "text/plain": [
       "dtype('float32')"
      ]
     },
     "execution_count": 35,
     "metadata": {},
     "output_type": "execute_result"
    }
   ],
   "source": [
    "# 부동소수점 사용(32비트)\n",
    "c = np.random.randn(3).astype(\"f\")\n",
    "c.dtype"
   ]
  },
  {
   "cell_type": "markdown",
   "metadata": {},
   "source": [
    "### 1.5.2 GPU(쿠파이)\n",
    "- 딥러닝의 계산은 대량의 곱하기 연산으로 구성됨\n",
    "- 병렬로 계산할수 있기 때문에 GPU가 굉장히 유리\n",
    "- 쿠파이 : GPU를 이용해 병렬 계산을 수행해주는 라이브러리\n",
    "    - 넘파이와 비슷하지만 GPU에서만 작동\n",
    "    - 엔디비아 GPU에서만 동작\n",
    "    - CUDA라는 GPU 전용 범용 병렬 컴퓨팅, 플랫폼을 설치해야 함\n",
    "    - 넘파이와 호환되는 API를 제공하기 때문에 넘파이로 작성한 코드를 GPU용으로 변경하기 쉬움\n",
    "        - numpy를 cupy로 바꾸어 주기만 하면 됨"
   ]
  },
  {
   "cell_type": "code",
   "execution_count": null,
   "metadata": {},
   "outputs": [],
   "source": [
    "import cupy as cp\n",
    "x = cp.arange(6).reshape(2,3).astype(\"f\")\n",
    "x\n",
    "x.sum(axis=1)"
   ]
  }
 ],
 "metadata": {
  "kernelspec": {
   "display_name": "Python 3",
   "language": "python",
   "name": "python3"
  },
  "language_info": {
   "codemirror_mode": {
    "name": "ipython",
    "version": 3
   },
   "file_extension": ".py",
   "mimetype": "text/x-python",
   "name": "python",
   "nbconvert_exporter": "python",
   "pygments_lexer": "ipython3",
   "version": "3.7.6"
  }
 },
 "nbformat": 4,
 "nbformat_minor": 4
}
